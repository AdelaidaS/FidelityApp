{
 "cells": [
  {
   "cell_type": "code",
   "execution_count": 2,
   "metadata": {},
   "outputs": [],
   "source": [
    "import pandas as pd\n",
    "from sklearn.model_selection import train_test_split, GridSearchCV\n",
    "from sklearn.metrics import accuracy_score, classification_report\n",
    "from sklearn.ensemble import RandomForestClassifier, GradientBoostingClassifier\n",
    "from sklearn.tree import DecisionTreeClassifier\n",
    "from sklearn.naive_bayes import GaussianNB\n",
    "from sklearn.neighbors import KNeighborsClassifier, NearestCentroid\n",
    "from sklearn.neural_network import MLPClassifier\n",
    "from sklearn.dummy import DummyClassifier\n",
    "from sklearn.linear_model import LinearRegression, RidgeClassifier, RidgeClassifierCV\n",
    "from sklearn.pipeline import Pipeline\n",
    "from sklearn.feature_selection import SelectKBest\n",
    "from sklearn.preprocessing import StandardScaler\n",
    "from sklearn.svm import SVC\n",
    "from sklearn.linear_model import LogisticRegression\n",
    "from sklearn.tree import DecisionTreeClassifier\n",
    "from sklearn.ensemble import RandomForestClassifier, AdaBoostClassifier, GradientBoostingClassifier\n",
    "from sklearn.svm import SVC\n",
    "from sklearn.metrics import accuracy_score, classification_report\n",
    "from sklearn.model_selection import GridSearchCV\n",
    "import pickle"
   ]
  },
  {
   "cell_type": "code",
   "execution_count": 3,
   "metadata": {},
   "outputs": [],
   "source": [
    "classifiers_clasif = [\n",
    "    (LogisticRegression(),\n",
    "     {\"penalty\": [\"l1\", \"l2\", \"elasticnet\"],\n",
    "      \"C\": [0.001, 0.01, 0.1, 1, 10],\n",
    "      \"solver\": [\"liblinear\", \"saga\"]}),\n",
    "    (DecisionTreeClassifier(),\n",
    "     {\"criterion\": [\"gini\", \"entropy\"],\n",
    "      \"max_depth\": [5, 10, None],\n",
    "      \"min_samples_split\": [2, 5, 10]}),\n",
    "    (RandomForestClassifier(),\n",
    "     {\"n_estimators\": [10, 100],\n",
    "      \"max_features\": [1, 2, 3]}),\n",
    "    (KNeighborsClassifier(),\n",
    "     {\"n_neighbors\": [3, 5, 7],\n",
    "      \"weights\": ['uniform', 'distance'],\n",
    "      \"algorithm\": ['auto', 'ball_tree', 'kd_tree', 'brute']}),\n",
    "    (SVC(),\n",
    "     {\"kernel\": ['linear', 'rbf', 'sigmoid', 'poly'],\n",
    "      \"C\": [0.001, 0.1, 0.5, 1, 5, 10],\n",
    "      \"degree\": [1, 2, 3, 4],\n",
    "      \"gamma\": ['scale', 'auto']}),\n",
    "    (GradientBoostingClassifier(),\n",
    "     {\"learning_rate\": [0.001, 0.01, 0.1],\n",
    "      \"n_estimators\": [50, 100, 200],\n",
    "      \"max_depth\": [3, 5, 7],\n",
    "      \"min_samples_split\": [2, 5, 10]}),\n",
    "    (AdaBoostClassifier(),\n",
    "     {\"n_estimators\": [50, 100, 200],\n",
    "      \"learning_rate\": [0.1, 0.5, 1]})]\n",
    "\n",
    "best_model = None\n",
    "best_score = 0.0\n",
    "best_params = None\n",
    "best_report = None"
   ]
  },
  {
   "cell_type": "code",
   "execution_count": 4,
   "metadata": {},
   "outputs": [],
   "source": [
    "from sklearn.model_selection import train_test_split, RandomizedSearchCV\n",
    "from sklearn.metrics import classification_report\n",
    "from multiprocessing import cpu_count\n",
    "\n",
    "\n",
    "def get_best_model(classifiers, X_train, y_train):\n",
    "    best_score = 0\n",
    "    best_clf = None\n",
    "    for clf, param in classifiers:\n",
    "        random_search = RandomizedSearchCV(clf, param_distributions=param, cv=5, n_iter=10,\n",
    "                                           n_jobs=cpu_count(), verbose=1, scoring='accuracy')\n",
    "        random_search.fit(X_train, y_train)\n",
    "        score = random_search.best_score_\n",
    "        if score > best_score:\n",
    "            best_score = score\n",
    "            best_clf = random_search.best_estimator_\n",
    "    print(f\"Best score: {best_score:.4f}\")\n",
    "    print(\"Best model:\")\n",
    "    print(best_clf)\n",
    "    y_pred = best_clf.predict(X_test)\n",
    "    print(\"Classification report:\")\n",
    "    print(classification_report(y_test, y_pred))\n",
    "    return best_clf"
   ]
  },
  {
   "cell_type": "code",
   "execution_count": 5,
   "metadata": {},
   "outputs": [
    {
     "ename": "TypeError",
     "evalue": "get_best_model() takes 3 positional arguments but 4 were given",
     "output_type": "error",
     "traceback": [
      "\u001b[1;31m---------------------------------------------------------------------------\u001b[0m",
      "\u001b[1;31mTypeError\u001b[0m                                 Traceback (most recent call last)",
      "\u001b[1;32m~\\AppData\\Local\\Temp\\ipykernel_29148\\4092593214.py\u001b[0m in \u001b[0;36m<module>\u001b[1;34m\u001b[0m\n\u001b[0;32m      8\u001b[0m \u001b[1;33m\u001b[0m\u001b[0m\n\u001b[0;32m      9\u001b[0m \u001b[1;31m# Llama a la función best_model\u001b[0m\u001b[1;33m\u001b[0m\u001b[1;33m\u001b[0m\u001b[1;33m\u001b[0m\u001b[0m\n\u001b[1;32m---> 10\u001b[1;33m \u001b[0mbest_model\u001b[0m\u001b[1;33m,\u001b[0m \u001b[0mbest_report\u001b[0m \u001b[1;33m=\u001b[0m \u001b[0mget_best_model\u001b[0m\u001b[1;33m(\u001b[0m\u001b[0mX_train\u001b[0m\u001b[1;33m,\u001b[0m \u001b[0my_train\u001b[0m\u001b[1;33m,\u001b[0m \u001b[0mX_test\u001b[0m\u001b[1;33m,\u001b[0m \u001b[0my_test\u001b[0m\u001b[1;33m)\u001b[0m\u001b[1;33m\u001b[0m\u001b[1;33m\u001b[0m\u001b[0m\n\u001b[0m",
      "\u001b[1;31mTypeError\u001b[0m: get_best_model() takes 3 positional arguments but 4 were given"
     ]
    }
   ],
   "source": [
    "# Carga tus datos aquí\n",
    "infiel = pd.read_csv(r'C:\\Users\\Ade\\Documents\\ML\\Multipage_App\\infiel.csv')\n",
    "X = infiel.drop([\"affairs\",\"fidelidad\"], axis=1)\n",
    "y = infiel.fidelidad \n",
    "\n",
    "# Divide tus datos en entrenamiento y prueba\n",
    "X_train, X_test, y_train, y_test = train_test_split(X, y, test_size=0.2, random_state=42)\n",
    "\n",
    "# Llama a la función best_model\n",
    "best_model, best_report = get_best_model(X_train, y_train, X_test, y_test)"
   ]
  },
  {
   "cell_type": "code",
   "execution_count": 6,
   "metadata": {},
   "outputs": [
    {
     "name": "stderr",
     "output_type": "stream",
     "text": [
      "c:\\Users\\Ade\\AppData\\Local\\Programs\\Python\\Python37\\lib\\site-packages\\sklearn\\model_selection\\_validation.py:372: FitFailedWarning: \n",
      "50 fits failed out of a total of 150.\n",
      "The score on these train-test partitions for these parameters will be set to nan.\n",
      "If these failures are not expected, you can try to debug them by setting error_score='raise'.\n",
      "\n",
      "Below are more details about the failures:\n",
      "--------------------------------------------------------------------------------\n",
      "25 fits failed with the following error:\n",
      "Traceback (most recent call last):\n",
      "  File \"c:\\Users\\Ade\\AppData\\Local\\Programs\\Python\\Python37\\lib\\site-packages\\sklearn\\model_selection\\_validation.py\", line 680, in _fit_and_score\n",
      "    estimator.fit(X_train, y_train, **fit_params)\n",
      "  File \"c:\\Users\\Ade\\AppData\\Local\\Programs\\Python\\Python37\\lib\\site-packages\\sklearn\\linear_model\\_logistic.py\", line 1461, in fit\n",
      "    solver = _check_solver(self.solver, self.penalty, self.dual)\n",
      "  File \"c:\\Users\\Ade\\AppData\\Local\\Programs\\Python\\Python37\\lib\\site-packages\\sklearn\\linear_model\\_logistic.py\", line 459, in _check_solver\n",
      "    solver\n",
      "ValueError: Only 'saga' solver supports elasticnet penalty, got solver=liblinear.\n",
      "\n",
      "--------------------------------------------------------------------------------\n",
      "25 fits failed with the following error:\n",
      "Traceback (most recent call last):\n",
      "  File \"c:\\Users\\Ade\\AppData\\Local\\Programs\\Python\\Python37\\lib\\site-packages\\sklearn\\model_selection\\_validation.py\", line 680, in _fit_and_score\n",
      "    estimator.fit(X_train, y_train, **fit_params)\n",
      "  File \"c:\\Users\\Ade\\AppData\\Local\\Programs\\Python\\Python37\\lib\\site-packages\\sklearn\\linear_model\\_logistic.py\", line 1473, in fit\n",
      "    % self.l1_ratio\n",
      "ValueError: l1_ratio must be between 0 and 1; got (l1_ratio=None)\n",
      "\n",
      "  warnings.warn(some_fits_failed_message, FitFailedWarning)\n",
      "c:\\Users\\Ade\\AppData\\Local\\Programs\\Python\\Python37\\lib\\site-packages\\sklearn\\model_selection\\_search.py:972: UserWarning: One or more of the test scores are non-finite: [0.68028288 0.68028288 0.70031157 0.70325794        nan        nan\n",
      " 0.70502554 0.71464763 0.71366705 0.71955768        nan        nan\n",
      " 0.72211228 0.72054    0.72073684 0.72014784        nan        nan\n",
      " 0.72309518 0.71995157 0.72388026 0.72054077        nan        nan\n",
      " 0.7234883  0.7203445  0.72348849 0.7203445         nan        nan]\n",
      "  category=UserWarning,\n"
     ]
    }
   ],
   "source": [
    "for model, params in classifiers_clasif:\n",
    "    grid_search = GridSearchCV(model, param_grid=params, cv=5, n_jobs=-1)\n",
    "    grid_search.fit(X_train, y_train)\n",
    "\n",
    "    y_pred = grid_search.predict(X_test)\n",
    "    score = accuracy_score(y_test, y_pred)\n",
    "    report = classification_report(y_test, y_pred)\n",
    "\n",
    "    if score > best_score:\n",
    "        best_model = grid_search.best_estimator_\n",
    "        best_score = score\n",
    "        best_params = grid_search.best_params_\n",
    "        best_report = report\n",
    "\n",
    "print(f\"Best score: {best_score:.4f}\")\n",
    "print(f\"Best model:\\n{best_model}\")\n",
    "print(\"Classification report:\")\n",
    "print(best_report)\n",
    "\n",
    "with open(\"best_model.pkl\", \"wb\") as f:\n",
    "    pickle.dump(best_model, f)\n",
    "    \n",
    "return best_model, best_report"
   ]
  },
  {
   "cell_type": "code",
   "execution_count": null,
   "metadata": {},
   "outputs": [],
   "source": [
    "# hacer la prediccion usando el mejor modelo seleccionado\n",
    "y_pred = get_best_model.predict(X_test)\n",
    "\n",
    "# calcular la exactitud (accuracy) en el conjunto de datos de prueba\n",
    "accuracy = accuracy_score(y_test, y_pred)\n",
    "\n",
    "# imprimir la exactitud (accuracy) en el conjunto de datos de prueba\n",
    "print(f\"Exactitud (accuracy) en el conjunto de datos de prueba: {accuracy:.4f}\")\n"
   ]
  }
 ],
 "metadata": {
  "kernelspec": {
   "display_name": "Python 3",
   "language": "python",
   "name": "python3"
  },
  "language_info": {
   "codemirror_mode": {
    "name": "ipython",
    "version": 3
   },
   "file_extension": ".py",
   "mimetype": "text/x-python",
   "name": "python",
   "nbconvert_exporter": "python",
   "pygments_lexer": "ipython3",
   "version": "3.7.4"
  },
  "orig_nbformat": 4
 },
 "nbformat": 4,
 "nbformat_minor": 2
}
